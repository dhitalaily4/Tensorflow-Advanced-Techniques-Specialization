{
 "cells": [
  {
   "cell_type": "markdown",
   "metadata": {
    "colab_type": "text",
    "id": "view-in-github"
   },
   "source": [
    "<a href=\"https://colab.research.google.com/github/https-deeplearning-ai/tensorflow-3-public/blob/main/Course%201%20-%20Custom%20Models%2C%20Layers%20and%20Loss%20Functions/Week%205%20-%20Callbacks/C1_W5_Lab_1_exploring-callbacks.ipynb\" target=\"_parent\"><img src=\"https://colab.research.google.com/assets/colab-badge.svg\" alt=\"Open In Colab\"/></a>"
   ]
  },
  {
   "cell_type": "markdown",
   "metadata": {
    "colab_type": "text",
    "id": "0c_TYhQOUe1j"
   },
   "source": [
    "# Ungraded Lab: Introduction to Keras callbacks\n",
    "\n",
    "In Keras, `Callback` is a Python class meant to be subclassed to provide specific functionality, with a set of methods called at various stages of training (including batch/epoch start and ends), testing, and predicting. Callbacks are useful to get a view on internal states and statistics of the model during training. The methods of the callbacks can  be called at different stages of training/evaluating/inference. Keras has available [callbacks](https://keras.io/api/callbacks/) and we'll show how you can use it in the following sections. Please click the **Open in Colab** badge above to complete this exercise in Colab. This will allow you to take advantage of the free GPU runtime (for faster training) and compatibility with all the packages needed in this notebook."
   ]
  },
  {
   "cell_type": "markdown",
   "metadata": {
    "colab_type": "text",
    "id": "Uyl69EyRQx-f"
   },
   "source": [
    "## Model methods that take callbacks\n",
    "Users can supply a list of callbacks to the following `tf.keras.Model` methods:\n",
    "* [`fit()`](https://www.tensorflow.org/versions/r2.0/api_docs/python/tf/keras/Model#fit), [`fit_generator()`](https://www.tensorflow.org/versions/r2.0/api_docs/python/tf/keras/Model#fit_generator)\n",
    "Trains the model for a fixed number of epochs (iterations over a dataset, or data yielded batch-by-batch by a Python generator).\n",
    "* [`evaluate()`](https://www.tensorflow.org/versions/r2.0/api_docs/python/tf/keras/Model#evaluate), [`evaluate_generator()`](https://www.tensorflow.org/versions/r2.0/api_docs/python/tf/keras/Model#evaluate_generator)\n",
    "Evaluates the model for given data or data generator. Outputs the loss and metric values from the evaluation.\n",
    "* [`predict()`](https://www.tensorflow.org/versions/r2.0/api_docs/python/tf/keras/Model#predict), [`predict_generator()`](https://www.tensorflow.org/versions/r2.0/api_docs/python/tf/keras/Model#predict_generator)\n",
    "Generates output predictions for the input data or data generator."
   ]
  },
  {
   "cell_type": "markdown",
   "metadata": {},
   "source": [
    "## Imports"
   ]
  },
  {
   "cell_type": "code",
   "execution_count": 2,
   "metadata": {
    "colab": {},
    "colab_type": "code",
    "id": "AlT1Kh3uA9lZ"
   },
   "outputs": [
    {
     "name": "stdout",
     "output_type": "stream",
     "text": [
      "The tensorboard extension is already loaded. To reload it, use:\n",
      "  %reload_ext tensorboard\n",
      "Version:  2.1.0\n"
     ]
    }
   ],
   "source": [
    "from __future__ import absolute_import, division, print_function, unicode_literals\n",
    "\n",
    "try:\n",
    "    # %tensorflow_version only exists in Colab.\n",
    "    %tensorflow_version 2.x\n",
    "except Exception:\n",
    "    pass\n",
    "\n",
    "import tensorflow as tf\n",
    "import tensorflow_datasets as tfds\n",
    "import matplotlib.pyplot as plt\n",
    "import io\n",
    "from PIL import Image\n",
    "\n",
    "from tensorflow.keras.callbacks import TensorBoard, EarlyStopping, LearningRateScheduler, ModelCheckpoint, CSVLogger, ReduceLROnPlateau\n",
    "%load_ext tensorboard\n",
    "\n",
    "import os\n",
    "import matplotlib.pylab as plt\n",
    "import numpy as np\n",
    "import math\n",
    "import datetime\n",
    "import pandas as pd\n",
    "\n",
    "print(\"Version: \", tf.__version__)\n",
    "tf.get_logger().setLevel('INFO')"
   ]
  },
  {
   "cell_type": "markdown",
   "metadata": {
    "colab_type": "text",
    "id": "HnSljqtsXKfb"
   },
   "source": [
    "# Examples of Keras callback applications\n",
    "The following section will guide you through creating simple [Callback](https://keras.io/api/callbacks/) applications."
   ]
  },
  {
   "cell_type": "code",
   "execution_count": 3,
   "metadata": {
    "colab": {},
    "colab_type": "code",
    "id": "spskRuxvCYQE"
   },
   "outputs": [],
   "source": [
    "# Download and prepare the horses or humans dataset\n",
    "\n",
    "# horses_or_humans 3.0.0 has already been downloaded for you\n",
    "path = \"./tensorflow_datasets\"\n",
    "splits, info = tfds.load('horses_or_humans', data_dir=path, as_supervised=True, with_info=True, split=['train[:80%]', 'train[80%:]', 'test'])\n",
    "\n",
    "(train_examples, validation_examples, test_examples) = splits\n",
    "\n",
    "num_examples = info.splits['train'].num_examples\n",
    "num_classes = info.features['label'].num_classes"
   ]
  },
  {
   "cell_type": "code",
   "execution_count": 4,
   "metadata": {
    "colab": {},
    "colab_type": "code",
    "id": "veIsubKTCZsN"
   },
   "outputs": [],
   "source": [
    "SIZE = 150 #@param {type:\"slider\", min:64, max:300, step:1}\n",
    "IMAGE_SIZE = (SIZE, SIZE)"
   ]
  },
  {
   "cell_type": "code",
   "execution_count": 5,
   "metadata": {
    "colab": {},
    "colab_type": "code",
    "id": "faajLlErCb1S"
   },
   "outputs": [],
   "source": [
    "def format_image(image, label):\n",
    "  image = tf.image.resize(image, IMAGE_SIZE) / 255.0\n",
    "  return  image, label"
   ]
  },
  {
   "cell_type": "code",
   "execution_count": 6,
   "metadata": {
    "colab": {},
    "colab_type": "code",
    "id": "AVXPuU12Cdka"
   },
   "outputs": [],
   "source": [
    "BATCH_SIZE = 32 #@param {type:\"integer\"}"
   ]
  },
  {
   "cell_type": "code",
   "execution_count": 7,
   "metadata": {
    "colab": {},
    "colab_type": "code",
    "id": "0lHDkFVaCe48"
   },
   "outputs": [],
   "source": [
    "train_batches = train_examples.shuffle(num_examples // 4).map(format_image).batch(BATCH_SIZE).prefetch(1)\n",
    "validation_batches = validation_examples.map(format_image).batch(BATCH_SIZE).prefetch(1)\n",
    "test_batches = test_examples.map(format_image).batch(1)"
   ]
  },
  {
   "cell_type": "code",
   "execution_count": 8,
   "metadata": {
    "colab": {},
    "colab_type": "code",
    "id": "DxsCqEIkCgUt"
   },
   "outputs": [
    {
     "data": {
      "text/plain": [
       "TensorShape([32, 150, 150, 3])"
      ]
     },
     "execution_count": 8,
     "metadata": {},
     "output_type": "execute_result"
    }
   ],
   "source": [
    "for image_batch, label_batch in train_batches.take(1):\n",
    "  pass\n",
    "\n",
    "image_batch.shape"
   ]
  },
  {
   "cell_type": "code",
   "execution_count": 9,
   "metadata": {
    "colab": {},
    "colab_type": "code",
    "id": "iDBpWvHXCh2A"
   },
   "outputs": [],
   "source": [
    "def build_model(dense_units, input_shape=IMAGE_SIZE + (3,)):\n",
    "  model = tf.keras.models.Sequential([\n",
    "      tf.keras.layers.Conv2D(16, (3, 3), activation='relu', input_shape=input_shape),\n",
    "      tf.keras.layers.MaxPooling2D(2, 2),\n",
    "      tf.keras.layers.Conv2D(32, (3, 3), activation='relu'),\n",
    "      tf.keras.layers.MaxPooling2D(2, 2),\n",
    "      tf.keras.layers.Conv2D(64, (3, 3), activation='relu'),\n",
    "      tf.keras.layers.MaxPooling2D(2, 2),\n",
    "      tf.keras.layers.Flatten(),\n",
    "      tf.keras.layers.Dense(dense_units, activation='relu'),\n",
    "      tf.keras.layers.Dense(2, activation='softmax')\n",
    "  ])\n",
    "  return model"
   ]
  },
  {
   "cell_type": "markdown",
   "metadata": {
    "colab_type": "text",
    "id": "0ZKGkjagENSw"
   },
   "source": [
    "## [TensorBoard](https://keras.io/api/callbacks/tensorboard/)\n",
    "\n",
    "Enable visualizations for TensorBoard."
   ]
  },
  {
   "cell_type": "code",
   "execution_count": 10,
   "metadata": {
    "colab": {},
    "colab_type": "code",
    "id": "CeiD2WVEHbex"
   },
   "outputs": [],
   "source": [
    "!rm -rf logs"
   ]
  },
  {
   "cell_type": "code",
   "execution_count": 11,
   "metadata": {
    "colab": {},
    "colab_type": "code",
    "id": "PpLwPLnAEOzv"
   },
   "outputs": [
    {
     "name": "stdout",
     "output_type": "stream",
     "text": [
      "Epoch 1/10\n",
      "26/26 [==============================] - 22s 841ms/step - loss: 0.6749 - accuracy: 0.5523 - val_loss: 0.6653 - val_accuracy: 0.5220\n",
      "Epoch 2/10\n",
      "26/26 [==============================] - 20s 781ms/step - loss: 0.6312 - accuracy: 0.6618 - val_loss: 0.6055 - val_accuracy: 0.7805\n",
      "Epoch 3/10\n",
      "26/26 [==============================] - 20s 788ms/step - loss: 0.6068 - accuracy: 0.7226 - val_loss: 0.5581 - val_accuracy: 0.8439\n",
      "Epoch 4/10\n",
      "26/26 [==============================] - 20s 765ms/step - loss: 0.5476 - accuracy: 0.7555 - val_loss: 0.5855 - val_accuracy: 0.6390\n",
      "Epoch 5/10\n",
      "26/26 [==============================] - 20s 751ms/step - loss: 0.5184 - accuracy: 0.7749 - val_loss: 0.4514 - val_accuracy: 0.8634\n",
      "Epoch 6/10\n",
      "26/26 [==============================] - 20s 757ms/step - loss: 0.4355 - accuracy: 0.8333 - val_loss: 0.3971 - val_accuracy: 0.8683\n",
      "Epoch 7/10\n",
      "26/26 [==============================] - 20s 754ms/step - loss: 0.4250 - accuracy: 0.8418 - val_loss: 0.3202 - val_accuracy: 0.9512\n",
      "Epoch 8/10\n",
      "26/26 [==============================] - 19s 750ms/step - loss: 0.3258 - accuracy: 0.8929 - val_loss: 0.2505 - val_accuracy: 0.9561\n",
      "Epoch 9/10\n",
      "26/26 [==============================] - 19s 731ms/step - loss: 0.2620 - accuracy: 0.9136 - val_loss: 0.3566 - val_accuracy: 0.8146\n",
      "Epoch 10/10\n",
      "26/26 [==============================] - 20s 754ms/step - loss: 0.2189 - accuracy: 0.9282 - val_loss: 0.1642 - val_accuracy: 0.9707\n"
     ]
    },
    {
     "data": {
      "text/plain": [
       "<tensorflow.python.keras.callbacks.History at 0x754de5bc4c90>"
      ]
     },
     "execution_count": 11,
     "metadata": {},
     "output_type": "execute_result"
    }
   ],
   "source": [
    "model = build_model(dense_units=256)\n",
    "model.compile(\n",
    "    optimizer='sgd',\n",
    "    loss='sparse_categorical_crossentropy', \n",
    "    metrics=['accuracy'])\n",
    "  \n",
    "logdir = os.path.join(\"logs\", datetime.datetime.now().strftime(\"%Y%m%d-%H%M%S\"))\n",
    "tensorboard_callback = tf.keras.callbacks.TensorBoard(logdir)\n",
    "\n",
    "model.fit(train_batches, \n",
    "          epochs=10, \n",
    "          validation_data=validation_batches, \n",
    "          callbacks=[tensorboard_callback])"
   ]
  },
  {
   "cell_type": "code",
   "execution_count": 12,
   "metadata": {
    "colab": {},
    "colab_type": "code",
    "id": "iJunWOjZE0ir"
   },
   "outputs": [
    {
     "data": {
      "text/html": [
       "\n",
       "      <iframe id=\"tensorboard-frame-37765e0b09fad059\" width=\"100%\" height=\"800\" frameborder=\"0\">\n",
       "      </iframe>\n",
       "      <script>\n",
       "        (function() {\n",
       "          const frame = document.getElementById(\"tensorboard-frame-37765e0b09fad059\");\n",
       "          const url = new URL(\"/\", window.location);\n",
       "          url.port = 6006;\n",
       "          frame.src = url;\n",
       "        })();\n",
       "      </script>\n",
       "  "
      ],
      "text/plain": [
       "<IPython.core.display.HTML object>"
      ]
     },
     "metadata": {},
     "output_type": "display_data"
    }
   ],
   "source": [
    "%tensorboard --logdir logs"
   ]
  },
  {
   "cell_type": "markdown",
   "metadata": {
    "colab_type": "text",
    "id": "wv9H4Pc2Mfl7"
   },
   "source": [
    "## [Model Checkpoint](https://keras.io/api/callbacks/model_checkpoint/)\n",
    "\n",
    "Callback to save the Keras model or model weights at some frequency."
   ]
  },
  {
   "cell_type": "code",
   "execution_count": 13,
   "metadata": {
    "colab": {},
    "colab_type": "code",
    "id": "PYV4FJ8iMmDq"
   },
   "outputs": [
    {
     "name": "stdout",
     "output_type": "stream",
     "text": [
      "Epoch 1/5\n",
      "\n",
      "Epoch 00001: saving model to weights.01-0.61.h5\n",
      "26/26 - 21s - loss: 0.6534 - accuracy: 0.6119 - val_loss: 0.6077 - val_accuracy: 0.7561\n",
      "Epoch 2/5\n",
      "\n",
      "Epoch 00002: saving model to weights.02-0.56.h5\n",
      "26/26 - 20s - loss: 0.5785 - accuracy: 0.7165 - val_loss: 0.5554 - val_accuracy: 0.7805\n",
      "Epoch 3/5\n",
      "\n",
      "Epoch 00003: saving model to weights.03-0.48.h5\n",
      "26/26 - 20s - loss: 0.5051 - accuracy: 0.7664 - val_loss: 0.4761 - val_accuracy: 0.7561\n",
      "Epoch 4/5\n",
      "\n",
      "Epoch 00004: saving model to weights.04-0.42.h5\n",
      "26/26 - 20s - loss: 0.4688 - accuracy: 0.7689 - val_loss: 0.4243 - val_accuracy: 0.7902\n",
      "Epoch 5/5\n",
      "\n",
      "Epoch 00005: saving model to weights.05-0.41.h5\n",
      "26/26 - 20s - loss: 0.3950 - accuracy: 0.8248 - val_loss: 0.4137 - val_accuracy: 0.8537\n"
     ]
    },
    {
     "data": {
      "text/plain": [
       "<tensorflow.python.keras.callbacks.History at 0x754de5a0cd90>"
      ]
     },
     "execution_count": 13,
     "metadata": {},
     "output_type": "execute_result"
    }
   ],
   "source": [
    "model = build_model(dense_units=256)\n",
    "model.compile(\n",
    "    optimizer='sgd',\n",
    "    loss='sparse_categorical_crossentropy', \n",
    "    metrics=['accuracy'])\n",
    "  \n",
    "model.fit(train_batches, \n",
    "          epochs=5, \n",
    "          validation_data=validation_batches, \n",
    "          verbose=2,\n",
    "          callbacks=[ModelCheckpoint('weights.{epoch:02d}-{val_loss:.2f}.h5', verbose=1),\n",
    "          ])"
   ]
  },
  {
   "cell_type": "code",
   "execution_count": 14,
   "metadata": {
    "colab": {},
    "colab_type": "code",
    "id": "oGvjQ8IlMmK6"
   },
   "outputs": [
    {
     "name": "stdout",
     "output_type": "stream",
     "text": [
      "\n",
      "Epoch 00001: saving model to saved_model\n",
      "WARNING:tensorflow:From /opt/conda/lib/python3.7/site-packages/tensorflow_core/python/ops/resource_variable_ops.py:1786: calling BaseResourceVariable.__init__ (from tensorflow.python.ops.resource_variable_ops) with constraint is deprecated and will be removed in a future version.\n",
      "Instructions for updating:\n",
      "If using Keras pass *_constraint arguments to layers.\n"
     ]
    },
    {
     "name": "stderr",
     "output_type": "stream",
     "text": [
      "WARNING:tensorflow:From /opt/conda/lib/python3.7/site-packages/tensorflow_core/python/ops/resource_variable_ops.py:1786: calling BaseResourceVariable.__init__ (from tensorflow.python.ops.resource_variable_ops) with constraint is deprecated and will be removed in a future version.\n",
      "Instructions for updating:\n",
      "If using Keras pass *_constraint arguments to layers.\n"
     ]
    },
    {
     "name": "stdout",
     "output_type": "stream",
     "text": [
      "INFO:tensorflow:Assets written to: saved_model/assets\n"
     ]
    },
    {
     "name": "stderr",
     "output_type": "stream",
     "text": [
      "INFO:tensorflow:Assets written to: saved_model/assets\n"
     ]
    },
    {
     "name": "stdout",
     "output_type": "stream",
     "text": [
      "26/26 - 21s - loss: 0.6750 - accuracy: 0.5547 - val_loss: 0.6350 - val_accuracy: 0.7805\n"
     ]
    },
    {
     "data": {
      "text/plain": [
       "<tensorflow.python.keras.callbacks.History at 0x754de58c6e90>"
      ]
     },
     "execution_count": 14,
     "metadata": {},
     "output_type": "execute_result"
    }
   ],
   "source": [
    "model = build_model(dense_units=256)\n",
    "model.compile(\n",
    "    optimizer='sgd',\n",
    "    loss='sparse_categorical_crossentropy', \n",
    "    metrics=['accuracy'])\n",
    "  \n",
    "model.fit(train_batches, \n",
    "          epochs=1, \n",
    "          validation_data=validation_batches, \n",
    "          verbose=2,\n",
    "          callbacks=[ModelCheckpoint('saved_model', verbose=1)\n",
    "          ])"
   ]
  },
  {
   "cell_type": "code",
   "execution_count": 15,
   "metadata": {
    "colab": {},
    "colab_type": "code",
    "id": "Y1ConwoB0EjD"
   },
   "outputs": [
    {
     "name": "stdout",
     "output_type": "stream",
     "text": [
      "Epoch 1/2\n",
      "\n",
      "Epoch 00001: saving model to model.h5\n",
      "26/26 - 21s - loss: 0.6605 - accuracy: 0.6241 - val_loss: 0.6255 - val_accuracy: 0.6780\n",
      "Epoch 2/2\n",
      "\n",
      "Epoch 00002: saving model to model.h5\n",
      "26/26 - 20s - loss: 0.5974 - accuracy: 0.7032 - val_loss: 0.5860 - val_accuracy: 0.7220\n"
     ]
    },
    {
     "data": {
      "text/plain": [
       "<tensorflow.python.keras.callbacks.History at 0x754de57b3d10>"
      ]
     },
     "execution_count": 15,
     "metadata": {},
     "output_type": "execute_result"
    }
   ],
   "source": [
    "model = build_model(dense_units=256)\n",
    "model.compile(\n",
    "    optimizer='sgd',\n",
    "    loss='sparse_categorical_crossentropy', \n",
    "    metrics=['accuracy'])\n",
    "  \n",
    "model.fit(train_batches, \n",
    "          epochs=2, \n",
    "          validation_data=validation_batches, \n",
    "          verbose=2,\n",
    "          callbacks=[ModelCheckpoint('model.h5', verbose=1)\n",
    "          ])"
   ]
  },
  {
   "cell_type": "markdown",
   "metadata": {
    "colab_type": "text",
    "id": "kptNF0--Lznv"
   },
   "source": [
    "## [Early stopping](https://keras.io/api/callbacks/early_stopping/)\n",
    "\n",
    "Stop training when a monitored metric has stopped improving."
   ]
  },
  {
   "cell_type": "code",
   "execution_count": 16,
   "metadata": {
    "colab": {},
    "colab_type": "code",
    "id": "KJOJTJYdCkdY"
   },
   "outputs": [
    {
     "name": "stdout",
     "output_type": "stream",
     "text": [
      "Epoch 1/50\n",
      "26/26 - 20s - loss: 0.6757 - accuracy: 0.5900 - val_loss: 0.6509 - val_accuracy: 0.7854\n",
      "Epoch 2/50\n",
      "26/26 - 20s - loss: 0.6385 - accuracy: 0.6314 - val_loss: 0.5982 - val_accuracy: 0.7805\n",
      "Epoch 3/50\n",
      "26/26 - 20s - loss: 0.5892 - accuracy: 0.6959 - val_loss: 0.5429 - val_accuracy: 0.8049\n",
      "Epoch 4/50\n",
      "26/26 - 20s - loss: 0.5324 - accuracy: 0.7530 - val_loss: 0.5429 - val_accuracy: 0.7268\n",
      "Epoch 5/50\n",
      "26/26 - 19s - loss: 0.4667 - accuracy: 0.7956 - val_loss: 0.8446 - val_accuracy: 0.5024\n",
      "Epoch 6/50\n",
      "26/26 - 20s - loss: 0.4346 - accuracy: 0.8066 - val_loss: 0.4162 - val_accuracy: 0.8439\n",
      "Epoch 7/50\n",
      "26/26 - 18s - loss: 0.3616 - accuracy: 0.8577 - val_loss: 0.2973 - val_accuracy: 0.8878\n",
      "Epoch 8/50\n",
      "26/26 - 19s - loss: 0.3393 - accuracy: 0.8589 - val_loss: 0.2777 - val_accuracy: 0.9122\n",
      "Epoch 9/50\n",
      "26/26 - 19s - loss: 0.2786 - accuracy: 0.9088 - val_loss: 0.2946 - val_accuracy: 0.8634\n",
      "Epoch 10/50\n",
      "26/26 - 19s - loss: 0.2322 - accuracy: 0.9258 - val_loss: 0.1894 - val_accuracy: 0.9463\n",
      "Epoch 11/50\n",
      "26/26 - 19s - loss: 0.1914 - accuracy: 0.9428 - val_loss: 0.2221 - val_accuracy: 0.9220\n",
      "Epoch 12/50\n",
      "26/26 - 20s - loss: 0.1545 - accuracy: 0.9586 - val_loss: 0.1101 - val_accuracy: 0.9854\n",
      "Epoch 13/50\n",
      "26/26 - 20s - loss: 0.1144 - accuracy: 0.9745 - val_loss: 0.1287 - val_accuracy: 0.9512\n",
      "Epoch 14/50\n",
      "26/26 - 20s - loss: 0.1097 - accuracy: 0.9696 - val_loss: 1.1414 - val_accuracy: 0.6146\n",
      "Epoch 15/50\n",
      "Restoring model weights from the end of the best epoch.\n",
      "26/26 - 20s - loss: 0.1298 - accuracy: 0.9696 - val_loss: 0.0717 - val_accuracy: 0.9805\n",
      "Epoch 00015: early stopping\n"
     ]
    },
    {
     "data": {
      "text/plain": [
       "<tensorflow.python.keras.callbacks.History at 0x754de55d5310>"
      ]
     },
     "execution_count": 16,
     "metadata": {},
     "output_type": "execute_result"
    }
   ],
   "source": [
    "model = build_model(dense_units=256)\n",
    "model.compile(\n",
    "    optimizer='sgd',\n",
    "    loss='sparse_categorical_crossentropy', \n",
    "    metrics=['accuracy'])\n",
    "  \n",
    "model.fit(train_batches, \n",
    "          epochs=50, \n",
    "          validation_data=validation_batches, \n",
    "          verbose=2,\n",
    "          callbacks=[EarlyStopping(\n",
    "              patience=3,\n",
    "              min_delta=0.05,\n",
    "              baseline=0.8,\n",
    "              mode='min',\n",
    "              monitor='val_loss',\n",
    "              restore_best_weights=True,\n",
    "              verbose=1)\n",
    "          ])"
   ]
  },
  {
   "cell_type": "markdown",
   "metadata": {
    "colab_type": "text",
    "id": "8mDzWUD4Pqq5"
   },
   "source": [
    "## [CSV Logger](https://keras.io/api/callbacks/csv_logger/)\n",
    "\n",
    "Callback that streams epoch results to a CSV file."
   ]
  },
  {
   "cell_type": "code",
   "execution_count": 17,
   "metadata": {
    "colab": {},
    "colab_type": "code",
    "id": "cffnMpmGPtMh"
   },
   "outputs": [
    {
     "name": "stdout",
     "output_type": "stream",
     "text": [
      "Epoch 1/5\n",
      "26/26 [==============================] - 21s 824ms/step - loss: 0.6702 - accuracy: 0.5827 - val_loss: 0.6520 - val_accuracy: 0.5659\n",
      "Epoch 2/5\n",
      "26/26 [==============================] - 20s 779ms/step - loss: 0.6286 - accuracy: 0.6411 - val_loss: 0.5851 - val_accuracy: 0.8244\n",
      "Epoch 3/5\n",
      "26/26 [==============================] - 20s 769ms/step - loss: 0.5802 - accuracy: 0.7141 - val_loss: 0.5329 - val_accuracy: 0.8049\n",
      "Epoch 4/5\n",
      "26/26 [==============================] - 20s 774ms/step - loss: 0.5260 - accuracy: 0.7433 - val_loss: 0.7428 - val_accuracy: 0.5854\n",
      "Epoch 5/5\n",
      "26/26 [==============================] - 20s 776ms/step - loss: 0.5075 - accuracy: 0.7579 - val_loss: 0.5740 - val_accuracy: 0.6683\n"
     ]
    },
    {
     "data": {
      "text/plain": [
       "<tensorflow.python.keras.callbacks.History at 0x754de547ad90>"
      ]
     },
     "execution_count": 17,
     "metadata": {},
     "output_type": "execute_result"
    }
   ],
   "source": [
    "model = build_model(dense_units=256)\n",
    "model.compile(\n",
    "    optimizer='sgd',\n",
    "    loss='sparse_categorical_crossentropy', \n",
    "    metrics=['accuracy'])\n",
    "  \n",
    "csv_file = 'training.csv'\n",
    "\n",
    "model.fit(train_batches, \n",
    "          epochs=5, \n",
    "          validation_data=validation_batches, \n",
    "          callbacks=[CSVLogger(csv_file)\n",
    "          ])"
   ]
  },
  {
   "cell_type": "code",
   "execution_count": 18,
   "metadata": {
    "colab": {},
    "colab_type": "code",
    "id": "B9tkYi03QV7R"
   },
   "outputs": [
    {
     "data": {
      "text/html": [
       "<div>\n",
       "<style scoped>\n",
       "    .dataframe tbody tr th:only-of-type {\n",
       "        vertical-align: middle;\n",
       "    }\n",
       "\n",
       "    .dataframe tbody tr th {\n",
       "        vertical-align: top;\n",
       "    }\n",
       "\n",
       "    .dataframe thead th {\n",
       "        text-align: right;\n",
       "    }\n",
       "</style>\n",
       "<table border=\"1\" class=\"dataframe\">\n",
       "  <thead>\n",
       "    <tr style=\"text-align: right;\">\n",
       "      <th></th>\n",
       "      <th>epoch</th>\n",
       "      <th>accuracy</th>\n",
       "      <th>loss</th>\n",
       "      <th>val_accuracy</th>\n",
       "      <th>val_loss</th>\n",
       "    </tr>\n",
       "  </thead>\n",
       "  <tbody>\n",
       "    <tr>\n",
       "      <th>0</th>\n",
       "      <td>0</td>\n",
       "      <td>0.582725</td>\n",
       "      <td>0.670556</td>\n",
       "      <td>0.565854</td>\n",
       "      <td>0.652035</td>\n",
       "    </tr>\n",
       "    <tr>\n",
       "      <th>1</th>\n",
       "      <td>1</td>\n",
       "      <td>0.641119</td>\n",
       "      <td>0.628647</td>\n",
       "      <td>0.824390</td>\n",
       "      <td>0.585073</td>\n",
       "    </tr>\n",
       "    <tr>\n",
       "      <th>2</th>\n",
       "      <td>2</td>\n",
       "      <td>0.714112</td>\n",
       "      <td>0.580776</td>\n",
       "      <td>0.804878</td>\n",
       "      <td>0.532864</td>\n",
       "    </tr>\n",
       "    <tr>\n",
       "      <th>3</th>\n",
       "      <td>3</td>\n",
       "      <td>0.743309</td>\n",
       "      <td>0.524040</td>\n",
       "      <td>0.585366</td>\n",
       "      <td>0.742800</td>\n",
       "    </tr>\n",
       "    <tr>\n",
       "      <th>4</th>\n",
       "      <td>4</td>\n",
       "      <td>0.757908</td>\n",
       "      <td>0.506412</td>\n",
       "      <td>0.668293</td>\n",
       "      <td>0.573966</td>\n",
       "    </tr>\n",
       "  </tbody>\n",
       "</table>\n",
       "</div>"
      ],
      "text/plain": [
       "   epoch  accuracy      loss  val_accuracy  val_loss\n",
       "0      0  0.582725  0.670556      0.565854  0.652035\n",
       "1      1  0.641119  0.628647      0.824390  0.585073\n",
       "2      2  0.714112  0.580776      0.804878  0.532864\n",
       "3      3  0.743309  0.524040      0.585366  0.742800\n",
       "4      4  0.757908  0.506412      0.668293  0.573966"
      ]
     },
     "execution_count": 18,
     "metadata": {},
     "output_type": "execute_result"
    }
   ],
   "source": [
    "pd.read_csv(csv_file).head()"
   ]
  },
  {
   "cell_type": "markdown",
   "metadata": {
    "colab_type": "text",
    "id": "Dt9C2Y9fRBKN"
   },
   "source": [
    "## [Learning Rate Scheduler](https://keras.io/api/callbacks/learning_rate_scheduler/)\n",
    "\n",
    "Updates the learning rate during training."
   ]
  },
  {
   "cell_type": "code",
   "execution_count": 19,
   "metadata": {
    "colab": {},
    "colab_type": "code",
    "id": "aJi-xY2VRC03"
   },
   "outputs": [
    {
     "name": "stdout",
     "output_type": "stream",
     "text": [
      "\n",
      "Epoch 00001: LearningRateScheduler reducing learning rate to 0.005.\n",
      "Epoch 1/5\n",
      "26/26 [==============================] - 29s 1s/step - loss: 0.6793 - accuracy: 0.5560 - val_loss: 0.6802 - val_accuracy: 0.4585\n",
      "\n",
      "Epoch 00002: LearningRateScheduler reducing learning rate to 0.0025.\n",
      "Epoch 2/5\n",
      "26/26 [==============================] - 21s 789ms/step - loss: 0.6529 - accuracy: 0.6448 - val_loss: 0.6667 - val_accuracy: 0.5171\n",
      "\n",
      "Epoch 00003: LearningRateScheduler reducing learning rate to 0.00125.\n",
      "Epoch 3/5\n",
      "26/26 [==============================] - 20s 774ms/step - loss: 0.6425 - accuracy: 0.6557 - val_loss: 0.6602 - val_accuracy: 0.5366\n",
      "\n",
      "Epoch 00004: LearningRateScheduler reducing learning rate to 0.000625.\n",
      "Epoch 4/5\n",
      "26/26 [==============================] - 20s 785ms/step - loss: 0.6346 - accuracy: 0.6618 - val_loss: 0.6501 - val_accuracy: 0.5951\n",
      "\n",
      "Epoch 00005: LearningRateScheduler reducing learning rate to 0.0003125.\n",
      "Epoch 5/5\n",
      "26/26 [==============================] - 20s 773ms/step - loss: 0.6321 - accuracy: 0.7153 - val_loss: 0.6487 - val_accuracy: 0.6098\n"
     ]
    },
    {
     "data": {
      "text/plain": [
       "<tensorflow.python.keras.callbacks.History at 0x754de529f490>"
      ]
     },
     "execution_count": 19,
     "metadata": {},
     "output_type": "execute_result"
    }
   ],
   "source": [
    "model = build_model(dense_units=256)\n",
    "model.compile(\n",
    "    optimizer='sgd',\n",
    "    loss='sparse_categorical_crossentropy', \n",
    "    metrics=['accuracy'])\n",
    "  \n",
    "def step_decay(epoch):\n",
    "\tinitial_lr = 0.01\n",
    "\tdrop = 0.5\n",
    "\tepochs_drop = 1\n",
    "\tlr = initial_lr * math.pow(drop, math.floor((1+epoch)/epochs_drop))\n",
    "\treturn lr\n",
    "\n",
    "model.fit(train_batches, \n",
    "          epochs=5, \n",
    "          validation_data=validation_batches, \n",
    "          callbacks=[LearningRateScheduler(step_decay, verbose=1),\n",
    "                    TensorBoard(log_dir='./log_dir')])"
   ]
  },
  {
   "cell_type": "code",
   "execution_count": 24,
   "metadata": {
    "colab": {},
    "colab_type": "code",
    "id": "M2S4n8nrbV91"
   },
   "outputs": [
    {
     "data": {
      "text/plain": [
       "Reusing TensorBoard on port 6007 (pid 5285), started 0:25:25 ago. (Use '!kill 5285' to kill it.)"
      ]
     },
     "metadata": {},
     "output_type": "display_data"
    },
    {
     "data": {
      "text/html": [
       "\n",
       "      <iframe id=\"tensorboard-frame-f3ad5c380f02b332\" width=\"100%\" height=\"800\" frameborder=\"0\">\n",
       "      </iframe>\n",
       "      <script>\n",
       "        (function() {\n",
       "          const frame = document.getElementById(\"tensorboard-frame-f3ad5c380f02b332\");\n",
       "          const url = new URL(\"/\", window.location);\n",
       "          url.port = 6007;\n",
       "          frame.src = url;\n",
       "        })();\n",
       "      </script>\n",
       "  "
      ],
      "text/plain": [
       "<IPython.core.display.HTML object>"
      ]
     },
     "metadata": {},
     "output_type": "display_data"
    }
   ],
   "source": [
    "%tensorboard --logdir log_dir"
   ]
  },
  {
   "cell_type": "markdown",
   "metadata": {
    "colab_type": "text",
    "id": "y0wcuQyJE_UK"
   },
   "source": [
    "## [ReduceLROnPlateau](https://keras.io/api/callbacks/reduce_lr_on_plateau/)\n",
    "\n",
    "Reduce learning rate when a metric has stopped improving."
   ]
  },
  {
   "cell_type": "code",
   "execution_count": 21,
   "metadata": {
    "colab": {},
    "colab_type": "code",
    "id": "4naxZ-eCFB27"
   },
   "outputs": [
    {
     "name": "stdout",
     "output_type": "stream",
     "text": [
      "Epoch 1/50\n",
      "26/26 [==============================] - 22s 827ms/step - loss: 0.6767 - accuracy: 0.5779 - val_loss: 0.6750 - val_accuracy: 0.5171\n",
      "Epoch 2/50\n",
      "25/26 [===========================>..] - ETA: 0s - loss: 0.6235 - accuracy: 0.6875\n",
      "Epoch 00002: ReduceLROnPlateau reducing learning rate to 0.0019999999552965165.\n",
      "26/26 [==============================] - 20s 763ms/step - loss: 0.6242 - accuracy: 0.6825 - val_loss: 0.6778 - val_accuracy: 0.5122\n",
      "Epoch 3/50\n",
      "26/26 [==============================] - 20s 758ms/step - loss: 0.5859 - accuracy: 0.7433 - val_loss: 0.5917 - val_accuracy: 0.7707\n",
      "Epoch 4/50\n",
      "26/26 [==============================] - 19s 715ms/step - loss: 0.5646 - accuracy: 0.7749 - val_loss: 0.5654 - val_accuracy: 0.7902\n",
      "Epoch 5/50\n",
      "26/26 [==============================] - 19s 741ms/step - loss: 0.5365 - accuracy: 0.7895 - val_loss: 0.5532 - val_accuracy: 0.7854\n",
      "Epoch 7/50\n",
      "25/26 [===========================>..] - ETA: 0s - loss: 0.5277 - accuracy: 0.8025\n",
      "Epoch 00007: ReduceLROnPlateau reducing learning rate to 0.001.\n",
      "26/26 [==============================] - 19s 732ms/step - loss: 0.5265 - accuracy: 0.8029 - val_loss: 0.5566 - val_accuracy: 0.7561\n",
      "Epoch 8/50\n",
      "26/26 [==============================] - 20s 766ms/step - loss: 0.5192 - accuracy: 0.7944 - val_loss: 0.5231 - val_accuracy: 0.8049\n",
      "Epoch 9/50\n",
      "26/26 [==============================] - 20s 785ms/step - loss: 0.5084 - accuracy: 0.8139 - val_loss: 0.5213 - val_accuracy: 0.8049\n",
      "Epoch 10/50\n",
      "26/26 [==============================] - 20s 766ms/step - loss: 0.4991 - accuracy: 0.8151 - val_loss: 0.5113 - val_accuracy: 0.8049\n",
      "Epoch 11/50\n",
      "25/26 [===========================>..] - ETA: 0s - loss: 0.4916 - accuracy: 0.8213\n",
      "Epoch 00011: ReduceLROnPlateau reducing learning rate to 0.001.\n",
      "26/26 [==============================] - 20s 765ms/step - loss: 0.4899 - accuracy: 0.8224 - val_loss: 0.5137 - val_accuracy: 0.7902\n",
      "Epoch 12/50\n",
      "26/26 [==============================] - 20s 761ms/step - loss: 0.4806 - accuracy: 0.8151 - val_loss: 0.4967 - val_accuracy: 0.8000\n",
      "Epoch 13/50\n",
      "26/26 [==============================] - 20s 783ms/step - loss: 0.4733 - accuracy: 0.8248 - val_loss: 0.4766 - val_accuracy: 0.8244\n",
      "Epoch 14/50\n",
      "26/26 [==============================] - 20s 774ms/step - loss: 0.4673 - accuracy: 0.8248 - val_loss: 0.4742 - val_accuracy: 0.8146\n",
      "Epoch 15/50\n",
      "26/26 [==============================] - 20s 770ms/step - loss: 0.4539 - accuracy: 0.8358 - val_loss: 0.4520 - val_accuracy: 0.8390\n",
      "Epoch 16/50\n",
      "25/26 [===========================>..] - ETA: 0s - loss: 0.4455 - accuracy: 0.8213\n",
      "Epoch 00016: ReduceLROnPlateau reducing learning rate to 0.001.\n",
      "26/26 [==============================] - 20s 773ms/step - loss: 0.4453 - accuracy: 0.8236 - val_loss: 0.4705 - val_accuracy: 0.8049\n",
      "Epoch 17/50\n",
      "25/26 [===========================>..] - ETA: 0s - loss: 0.4366 - accuracy: 0.8375\n",
      "Epoch 00017: ReduceLROnPlateau reducing learning rate to 0.001.\n",
      "26/26 [==============================] - 20s 781ms/step - loss: 0.4375 - accuracy: 0.8382 - val_loss: 0.4567 - val_accuracy: 0.8195\n",
      "Epoch 18/50\n",
      "26/26 [==============================] - 20s 761ms/step - loss: 0.4284 - accuracy: 0.8333 - val_loss: 0.4367 - val_accuracy: 0.8488\n",
      "Epoch 19/50\n",
      "25/26 [===========================>..] - ETA: 0s - loss: 0.4226 - accuracy: 0.8450\n",
      "Epoch 00019: ReduceLROnPlateau reducing learning rate to 0.001.\n",
      "26/26 [==============================] - 20s 777ms/step - loss: 0.4213 - accuracy: 0.8455 - val_loss: 0.4595 - val_accuracy: 0.8049\n",
      "Epoch 20/50\n",
      "26/26 [==============================] - 20s 769ms/step - loss: 0.4119 - accuracy: 0.8455 - val_loss: 0.4096 - val_accuracy: 0.8585\n",
      "Epoch 21/50\n",
      "26/26 [==============================] - 20s 773ms/step - loss: 0.4062 - accuracy: 0.8528 - val_loss: 0.3989 - val_accuracy: 0.8683\n",
      "Epoch 22/50\n",
      "26/26 [==============================] - 20s 773ms/step - loss: 0.3955 - accuracy: 0.8601 - val_loss: 0.3878 - val_accuracy: 0.8439\n",
      "Epoch 23/50\n",
      "25/26 [===========================>..] - ETA: 0s - loss: 0.3930 - accuracy: 0.8562\n",
      "Epoch 00023: ReduceLROnPlateau reducing learning rate to 0.001.\n",
      "26/26 [==============================] - 20s 777ms/step - loss: 0.3935 - accuracy: 0.8564 - val_loss: 0.4002 - val_accuracy: 0.8780\n",
      "Epoch 24/50\n",
      "26/26 [==============================] - 20s 758ms/step - loss: 0.3823 - accuracy: 0.8577 - val_loss: 0.3796 - val_accuracy: 0.8732\n",
      "Epoch 25/50\n",
      "26/26 [==============================] - 21s 792ms/step - loss: 0.3743 - accuracy: 0.8625 - val_loss: 0.3665 - val_accuracy: 0.8829\n",
      "Epoch 26/50\n",
      "25/26 [===========================>..] - ETA: 0s - loss: 0.3650 - accuracy: 0.8612\n",
      "Epoch 00026: ReduceLROnPlateau reducing learning rate to 0.001.\n",
      "26/26 [==============================] - 21s 789ms/step - loss: 0.3668 - accuracy: 0.8613 - val_loss: 0.4586 - val_accuracy: 0.7951\n",
      "Epoch 27/50\n",
      "25/26 [===========================>..] - ETA: 0s - loss: 0.3667 - accuracy: 0.8612\n",
      "Epoch 00027: ReduceLROnPlateau reducing learning rate to 0.001.\n",
      "26/26 [==============================] - 21s 815ms/step - loss: 0.3644 - accuracy: 0.8613 - val_loss: 0.3820 - val_accuracy: 0.8829\n",
      "Epoch 28/50\n",
      "25/26 [===========================>..] - ETA: 0s - loss: 0.3533 - accuracy: 0.8662\n",
      "Epoch 00028: ReduceLROnPlateau reducing learning rate to 0.001.\n",
      "26/26 [==============================] - 21s 819ms/step - loss: 0.3530 - accuracy: 0.8662 - val_loss: 0.4026 - val_accuracy: 0.8341\n",
      "Epoch 29/50\n",
      "26/26 [==============================] - 22s 846ms/step - loss: 0.3474 - accuracy: 0.8686 - val_loss: 0.3423 - val_accuracy: 0.8927\n",
      "Epoch 30/50\n",
      "26/26 [==============================] - 22s 862ms/step - loss: 0.3373 - accuracy: 0.8735 - val_loss: 0.3396 - val_accuracy: 0.8976\n",
      "Epoch 31/50\n",
      "25/26 [===========================>..] - ETA: 0s - loss: 0.3335 - accuracy: 0.8863\n",
      "Epoch 00031: ReduceLROnPlateau reducing learning rate to 0.001.\n",
      "26/26 [==============================] - 21s 823ms/step - loss: 0.3306 - accuracy: 0.8869 - val_loss: 0.3497 - val_accuracy: 0.8878\n",
      "Epoch 32/50\n",
      "26/26 [==============================] - 23s 866ms/step - loss: 0.3262 - accuracy: 0.8832 - val_loss: 0.3154 - val_accuracy: 0.8976\n",
      "Epoch 33/50\n",
      "26/26 [==============================] - 22s 835ms/step - loss: 0.3215 - accuracy: 0.8881 - val_loss: 0.3096 - val_accuracy: 0.9024\n",
      "Epoch 34/50\n",
      "25/26 [===========================>..] - ETA: 0s - loss: 0.3085 - accuracy: 0.8988\n",
      "Epoch 00034: ReduceLROnPlateau reducing learning rate to 0.001.\n",
      "26/26 [==============================] - 23s 896ms/step - loss: 0.3092 - accuracy: 0.8990 - val_loss: 0.3351 - val_accuracy: 0.8976\n",
      "Epoch 35/50\n",
      "26/26 [==============================] - 21s 803ms/step - loss: 0.3107 - accuracy: 0.8954 - val_loss: 0.3052 - val_accuracy: 0.9024\n",
      "Epoch 36/50\n",
      "26/26 [==============================] - 21s 804ms/step - loss: 0.3037 - accuracy: 0.8917 - val_loss: 0.2886 - val_accuracy: 0.8927\n",
      "Epoch 37/50\n",
      "25/26 [===========================>..] - ETA: 0s - loss: 0.2942 - accuracy: 0.9100\n",
      "Epoch 00037: ReduceLROnPlateau reducing learning rate to 0.001.\n",
      "26/26 [==============================] - 20s 765ms/step - loss: 0.2932 - accuracy: 0.9100 - val_loss: 0.3043 - val_accuracy: 0.9073\n",
      "Epoch 38/50\n",
      "25/26 [===========================>..] - ETA: 0s - loss: 0.2864 - accuracy: 0.9050\n",
      "Epoch 00038: ReduceLROnPlateau reducing learning rate to 0.001.\n",
      "26/26 [==============================] - 22s 832ms/step - loss: 0.2841 - accuracy: 0.9063 - val_loss: 0.4290 - val_accuracy: 0.8244\n",
      "Epoch 39/50\n",
      "25/26 [===========================>..] - ETA: 0s - loss: 0.2895 - accuracy: 0.9013\n",
      "Epoch 00039: ReduceLROnPlateau reducing learning rate to 0.001.\n",
      "26/26 [==============================] - 23s 874ms/step - loss: 0.2882 - accuracy: 0.9015 - val_loss: 0.3076 - val_accuracy: 0.9024\n",
      "Epoch 40/50\n",
      "26/26 [==============================] - 21s 807ms/step - loss: 0.2726 - accuracy: 0.9088 - val_loss: 0.2740 - val_accuracy: 0.9073\n",
      "Epoch 41/50\n",
      "26/26 [==============================] - 21s 815ms/step - loss: 0.2617 - accuracy: 0.9234 - val_loss: 0.2717 - val_accuracy: 0.9122\n",
      "Epoch 42/50\n",
      "26/26 [==============================] - 23s 866ms/step - loss: 0.2576 - accuracy: 0.9282 - val_loss: 0.2521 - val_accuracy: 0.9073\n",
      "Epoch 43/50\n",
      "25/26 [===========================>..] - ETA: 0s - loss: 0.2519 - accuracy: 0.9337\n",
      "Epoch 00043: ReduceLROnPlateau reducing learning rate to 0.001.\n",
      "26/26 [==============================] - 22s 853ms/step - loss: 0.2563 - accuracy: 0.9307 - val_loss: 0.2557 - val_accuracy: 0.9171\n",
      "Epoch 44/50\n",
      "25/26 [===========================>..] - ETA: 0s - loss: 0.2507 - accuracy: 0.9275\n",
      "Epoch 00044: ReduceLROnPlateau reducing learning rate to 0.001.\n",
      "26/26 [==============================] - 22s 844ms/step - loss: 0.2526 - accuracy: 0.9258 - val_loss: 0.2582 - val_accuracy: 0.9122\n",
      "Epoch 45/50\n",
      "26/26 [==============================] - 24s 940ms/step - loss: 0.2469 - accuracy: 0.9209 - val_loss: 0.2479 - val_accuracy: 0.9171\n",
      "Epoch 46/50\n",
      "26/26 [==============================] - 22s 835ms/step - loss: 0.2370 - accuracy: 0.9331 - val_loss: 0.2336 - val_accuracy: 0.9171\n",
      "Epoch 47/50\n",
      "26/26 [==============================] - 21s 811ms/step - loss: 0.2131 - accuracy: 0.9440 - val_loss: 0.2159 - val_accuracy: 0.9317\n"
     ]
    },
    {
     "data": {
      "text/plain": [
       "<tensorflow.python.keras.callbacks.History at 0x754de566ab10>"
      ]
     },
     "execution_count": 21,
     "metadata": {},
     "output_type": "execute_result"
    }
   ],
   "source": [
    "model = build_model(dense_units=256)\n",
    "model.compile(\n",
    "    optimizer='sgd',\n",
    "    loss='sparse_categorical_crossentropy', \n",
    "    metrics=['accuracy'])\n",
    "  \n",
    "model.fit(train_batches, \n",
    "          epochs=50, \n",
    "          validation_data=validation_batches, \n",
    "          callbacks=[ReduceLROnPlateau(monitor='val_loss', \n",
    "                                       factor=0.2, verbose=1,\n",
    "                                       patience=1, min_lr=0.001),\n",
    "                     TensorBoard(log_dir='./log_dir')])"
   ]
  },
  {
   "cell_type": "code",
   "execution_count": 22,
   "metadata": {
    "colab": {},
    "colab_type": "code",
    "id": "isfTWP4NYudk"
   },
   "outputs": [
    {
     "data": {
      "text/plain": [
       "Reusing TensorBoard on port 6007 (pid 5285), started 0:25:00 ago. (Use '!kill 5285' to kill it.)"
      ]
     },
     "metadata": {},
     "output_type": "display_data"
    },
    {
     "data": {
      "text/html": [
       "\n",
       "      <iframe id=\"tensorboard-frame-82c2c10db3f3cbec\" width=\"100%\" height=\"800\" frameborder=\"0\">\n",
       "      </iframe>\n",
       "      <script>\n",
       "        (function() {\n",
       "          const frame = document.getElementById(\"tensorboard-frame-82c2c10db3f3cbec\");\n",
       "          const url = new URL(\"/\", window.location);\n",
       "          url.port = 6007;\n",
       "          frame.src = url;\n",
       "        })();\n",
       "      </script>\n",
       "  "
      ],
      "text/plain": [
       "<IPython.core.display.HTML object>"
      ]
     },
     "metadata": {},
     "output_type": "display_data"
    }
   ],
   "source": [
    "%tensorboard --logdir log_dir"
   ]
  },
  {
   "cell_type": "code",
   "execution_count": null,
   "metadata": {},
   "outputs": [],
   "source": []
  }
 ],
 "metadata": {
  "colab": {
   "collapsed_sections": [],
   "include_colab_link": true,
   "name": "ExploringCallbacks.ipynb",
   "provenance": []
  },
  "kernelspec": {
   "display_name": "Python 3",
   "language": "python",
   "name": "python3"
  },
  "language_info": {
   "codemirror_mode": {
    "name": "ipython",
    "version": 3
   },
   "file_extension": ".py",
   "mimetype": "text/x-python",
   "name": "python",
   "nbconvert_exporter": "python",
   "pygments_lexer": "ipython3",
   "version": "3.7.6"
  }
 },
 "nbformat": 4,
 "nbformat_minor": 4
}
